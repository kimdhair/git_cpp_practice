{
 "cells": [
  {
   "cell_type": "code",
   "execution_count": 1,
   "metadata": {},
   "outputs": [
    {
     "name": "stdout",
     "output_type": "stream",
     "text": [
      "Requirement already satisfied: openpyxl in c:\\users\\dohye\\anaconda3\\lib\\site-packages (3.0.10)\n",
      "Requirement already satisfied: et_xmlfile in c:\\users\\dohye\\anaconda3\\lib\\site-packages (from openpyxl) (1.1.0)\n"
     ]
    }
   ],
   "source": [
    "!pip install openpyxl"
   ]
  },
  {
   "cell_type": "code",
   "execution_count": 2,
   "metadata": {},
   "outputs": [],
   "source": [
    "import openpyxl"
   ]
  },
  {
   "cell_type": "code",
   "execution_count": 3,
   "metadata": {},
   "outputs": [],
   "source": [
    "wb=openpyxl.Workbook()\n",
    "\n",
    "ws=wb.create_sheet('codingon')\n",
    "\n",
    "ws['A1']='이름'\n",
    "ws['B1']='영어이름'\n",
    "\n",
    "ws['A2']='김세경'\n",
    "ws['B2']='sarah'\n",
    "\n",
    "wb.save('./codingon.xlsx')"
   ]
  },
  {
   "cell_type": "code",
   "execution_count": 7,
   "metadata": {},
   "outputs": [],
   "source": [
    "wb=openpyxl.load_workbook(r'./codingon.xlsx')\n",
    "\n",
    "ws=wb['codingon']\n",
    "\n",
    "ws['A3']='김소연'\n",
    "ws['B3']='lily'\n",
    "\n",
    "wb.save('./codingon.xlsx')"
   ]
  },
  {
   "cell_type": "code",
   "execution_count": 5,
   "metadata": {},
   "outputs": [],
   "source": [
    "from openpyxl import Workbook\n",
    "\n",
    "wb=Workbook()\n",
    "\n",
    "ws=wb.active\n",
    "ws.title='Data'\n",
    "\n",
    "data=[\n",
    "    ['Name','Age'],\n",
    "    ['Alice',30],\n",
    "    ['Bob',25],\n",
    "    ['Charlie',35]\n",
    "]\n",
    "\n",
    "for row in data:\n",
    "    ws.append(row)\n",
    "\n",
    "wb.save(\"append_example.xlsx\")"
   ]
  }
 ],
 "metadata": {
  "kernelspec": {
   "display_name": "base",
   "language": "python",
   "name": "python3"
  },
  "language_info": {
   "codemirror_mode": {
    "name": "ipython",
    "version": 3
   },
   "file_extension": ".py",
   "mimetype": "text/x-python",
   "name": "python",
   "nbconvert_exporter": "python",
   "pygments_lexer": "ipython3",
   "version": "3.11.5"
  }
 },
 "nbformat": 4,
 "nbformat_minor": 2
}
