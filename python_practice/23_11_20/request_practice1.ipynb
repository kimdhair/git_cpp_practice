{
 "cells": [
  {
   "cell_type": "code",
   "execution_count": 1,
   "metadata": {},
   "outputs": [
    {
     "name": "stdout",
     "output_type": "stream",
     "text": [
      "lol\n",
      "=============================================================\n",
      "S. Korea's T1 win fourth world title in League of Legends https://en.yna.co.kr/view/AEN20231119003300320?input=2106m\n",
      "LoL 전설 ‘페이커’, 10년이 지나도 최고 https://www.ddaily.co.kr/page/view/2023111922214852735\n",
      "[인터뷰] 벤츠 “리그오브레전드 후원, 미래 소비자 위한 것” https://biz.chosun.com/industry/car/2023/11/19/2HDHJJYOYBBQJDXKUVLQONEB4I/?utm_source=naver&utm_medium=original&utm_campaign=biz\n",
      "T1, 최초 롤드컵 4회 우승…LoL 역사 바꿨다 https://www.kyeonggi.com/article/20231119580192\n",
      "고척돔·광화문 달군 '롤드컵'…중국팀 꺾고 우승 따냈다 https://biz.sbs.co.kr/article_hub/20000144809?division=NAVER\n",
      "두손 모은 LOL 팬들 http://www.newspim.com/news/view/20231119000206\n",
      "전설, 다시 정상(頂上)이 되다 https://news.kmib.co.kr/article/view.asp?arcid=0018887424&code=61162012&cp=nv\n",
      "전세계 e스포츠 팬들 운집… 고척돔·광화문서 ‘열혈 응원’ [韓 '롤드컵' 우승] http://www.segye.com/newsView/20231119509564?OutUrl=naver\n",
      "우리은행, 고등LoL리그 개최 http://www.shinailbo.co.kr/news/articleView.html?idxno=1787878\n",
      "[풍경기] 고척돔에서 이뤄진 V4! 2023 LoL 월드 챔피언십 현장 풍경 http://www.inven.co.kr/webzine/news/?news=290587&iskin=esports\n",
      "=============================================================\n",
      "\"수능 GG치고 LoL자\"…기괴한 정치인 '응원 현수막' 시끌시끌 https://www.sedaily.com/NewsView/29X8EYZVSM\n",
      "[풍경기] 고척돔에서 이뤄진 V4! 2023 LoL 월드 챔피언십 현장 풍경 http://www.inven.co.kr/webzine/news/?news=290587&iskin=esports\n",
      "2023 롤드컵 열리는 고척돔…팬들도 한 목소리로 'T1 화이팅' https://zdnet.co.kr/view/?no=20231119170557\n",
      "나즈 알레타하 LOL 총괄 “페이커, 누구도 부인할 수 없는 GOAT” https://www.etoday.co.kr/news/view/2303627\n",
      "[롤드컵]'클라스는 영원하다' 페이커 \"4회 우승, 팬·동료 고마워\" http://www.newsis.com/view/?id=NISX20231119_0002526987&cID=13008&pID=13100\n",
      "수능 GG하고 LoL자? 국힘 황당 펼침막 뭇매맞고 철거 https://www.hani.co.kr/arti/area/capital/1116235.html\n",
      "우리은행, 전국 고등학생 대상 '제3회 우리WON뱅킹 고등LoL 리그' 개최 https://www.thepublic.kr/news/articleView.html?idxno=208040\n",
      "내년 '롤드컵' 결승전 영국 런던서 열린다 http://www.newsis.com/view/?id=NISX20231119_0002526901&cID=13008&pID=13100\n",
      "2023년 LoL 최강 팀의 영예는 누가? https://www.yna.co.kr/view/PYH20231119068300017?input=1196m\n",
      "T1, 홈에서 네 번째 우승컵 들까...2023 LoL 월즈 http://www.inven.co.kr/webzine/news/?news=290478&iskin=esports\n",
      "=============================================================\n",
      "[풍경기] 고척돔에서 이뤄진 V4! 2023 LoL 월드 챔피언십 현장 풍경 http://www.inven.co.kr/webzine/news/?news=290587&iskin=esports\n",
      "2023 롤드컵 열리는 고척돔…팬들도 한 목소리로 'T1 화이팅' https://zdnet.co.kr/view/?no=20231119170557\n",
      "나즈 알레타하 LOL 총괄 “페이커, 누구도 부인할 수 없는 GOAT” https://www.etoday.co.kr/news/view/2303627\n",
      "[롤드컵]'클라스는 영원하다' 페이커 \"4회 우승, 팬·동료 고마워\" http://www.newsis.com/view/?id=NISX20231119_0002526987&cID=13008&pID=13100\n",
      "수능 GG하고 LoL자? 국힘 황당 펼침막 뭇매맞고 철거 https://www.hani.co.kr/arti/area/capital/1116235.html\n",
      "우리은행, 전국 고등학생 대상 '제3회 우리WON뱅킹 고등LoL 리그' 개최 https://www.thepublic.kr/news/articleView.html?idxno=208040\n",
      "내년 '롤드컵' 결승전 영국 런던서 열린다 http://www.newsis.com/view/?id=NISX20231119_0002526901&cID=13008&pID=13100\n",
      "2023년 LoL 최강 팀의 영예는 누가? https://www.yna.co.kr/view/PYH20231119068300017?input=1196m\n",
      "T1, 홈에서 네 번째 우승컵 들까...2023 LoL 월즈 http://www.inven.co.kr/webzine/news/?news=290478&iskin=esports\n",
      "우리은행, ‘제3회 우리WON뱅킹 고등LoL 리그’ 개최 http://www.joseilbo.com/news/news_read.php?uid=503048&class=51&grp=\n",
      "=============================================================\n",
      "韓‘T1’, 中 징동게임즈 제치고 ‘LoL 월드 챔피언십’ 결승 진출 http://www.edaily.co.kr/news/newspath.asp?newsid=01817126635805392\n",
      "LoL 왕의 귀환···T1, 웨이보 꺾고 롤드컵 첫 'V4' 달성 https://www.cnet.co.kr/view/?no=20231119221430\n",
      "LoL의 인기 https://www.sedaily.com/NewsView/29XAQ3LSJC\n",
      "\"수능 GG하고 놀(LoL)자~\" 응원 현수막 걸었다가 하루 만에 철거 https://www.ytn.co.kr/_ln/0103_202311151500064527\n",
      "'롤드컵 4회 우승' T1, 그 뒤엔 OOO 있었다 [1일IT템] http://www.fnnews.com/news/202311200842445431\n",
      "'LoL 월드 챔피언십 팬 페스트' 시민들로 가득 찬 광화문 광장 [TF사진관] http://news.tf.co.kr/read/photomovie/2056318.htm\n",
      "‘페이커’에게 끝은 아직 없다 [롤드컵] http://www.kukinews.com/newsView/kuk202311200002\n",
      "T1, 웨이보 꺾고 7년만에 LoL 월드 챔피언십 정상 '통산 4회' https://view.asiae.co.kr/article/2023111920205991163\n",
      "[가봄] “상혁이 형, 해줘”…고척돔서 열린 ‘롤드컵’ 열기 후끈 https://news.kmib.co.kr/article/view.asp?arcid=0018887114&code=61162012&cp=nv\n",
      "라이엇, 'LoL' 신규 챔피언 '흐웨이' 공개…나홀로 스킬 10개 보유 http://www.inews24.com/view/1654107\n"
     ]
    }
   ],
   "source": [
    "import requests\n",
    "from bs4 import BeautifulSoup\n",
    "\n",
    "search=input(\"검색어를 입력하시오: \")\n",
    "print(search)\n",
    "s=[1,11,12,22]\n",
    "for i in range(len(s)):\n",
    "    response=requests.get(f\"https://search.naver.com/search.naver?where=news&query={search}&start={s[i]}\")\n",
    "    html=response.text\n",
    "    soup=BeautifulSoup(html,'html.parser')\n",
    "    print('=============================================================')\n",
    "    for j in range(len(soup.select(\".news_contents\"))):\n",
    "        print(soup.select(\".news_contents > a\")[j*2+1]['title'],end=\" \")\n",
    "        print(soup.select(\".news_contents > a\")[j*2+1]['href'])"
   ]
  }
 ],
 "metadata": {
  "kernelspec": {
   "display_name": "base",
   "language": "python",
   "name": "python3"
  },
  "language_info": {
   "codemirror_mode": {
    "name": "ipython",
    "version": 3
   },
   "file_extension": ".py",
   "mimetype": "text/x-python",
   "name": "python",
   "nbconvert_exporter": "python",
   "pygments_lexer": "ipython3",
   "version": "3.11.5"
  }
 },
 "nbformat": 4,
 "nbformat_minor": 2
}
