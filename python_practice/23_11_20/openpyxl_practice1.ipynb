{
 "cells": [
  {
   "cell_type": "code",
   "execution_count": 1,
   "metadata": {},
   "outputs": [],
   "source": [
    "import requests\n",
    "from bs4 import BeautifulSoup\n",
    "from openpyxl import Workbook"
   ]
  },
  {
   "cell_type": "code",
   "execution_count": 39,
   "metadata": {},
   "outputs": [],
   "source": [
    "word=input()\n",
    "response=requests.get(f\"https://browse.gmarket.co.kr/search?keyword={word}\")\n",
    "html=response.text\n",
    "soup=BeautifulSoup(html,'html.parser')\n",
    "\n",
    "wb=Workbook()\n",
    "\n",
    "ws=wb.active\n",
    "ws.title='Data'\n",
    "\n",
    "data=[\n",
    "    ['상품명','판매가','url']\n",
    "]\n",
    "\n",
    "for i in range(len(soup.select('.text__item'))):\n",
    "    data.append([soup.select('.text__item')[i].text,soup.select('strong.text.text__value')[i].text,soup.select('a.link__item')[i*2+1]['href']])\n",
    "\n",
    "for row in data:\n",
    "    ws.append(row)\n",
    "\n",
    "wb.save(\"gmarket.xlsx\")\n"
   ]
  }
 ],
 "metadata": {
  "kernelspec": {
   "display_name": "base",
   "language": "python",
   "name": "python3"
  },
  "language_info": {
   "codemirror_mode": {
    "name": "ipython",
    "version": 3
   },
   "file_extension": ".py",
   "mimetype": "text/x-python",
   "name": "python",
   "nbconvert_exporter": "python",
   "pygments_lexer": "ipython3",
   "version": "3.11.5"
  }
 },
 "nbformat": 4,
 "nbformat_minor": 2
}
