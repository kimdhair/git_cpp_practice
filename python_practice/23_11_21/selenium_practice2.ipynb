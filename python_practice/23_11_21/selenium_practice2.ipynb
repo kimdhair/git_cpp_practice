{
 "cells": [
  {
   "cell_type": "code",
   "execution_count": 62,
   "metadata": {},
   "outputs": [],
   "source": [
    "from selenium import webdriver\n",
    "from selenium.webdriver.chrome.options import Options\n",
    "from selenium.webdriver.chrome.service import Service\n",
    "from webdriver_manager.chrome import ChromeDriverManager\n",
    "from selenium.webdriver.common.by import By\n",
    "from selenium.webdriver.common.keys import Keys\n",
    "from time import sleep\n",
    "from openpyxl import Workbook\n",
    "\n",
    "chrome_options = Options()\n",
    "chrome_options.add_experimental_option(\"detach\", True)\n",
    "\n",
    "service = Service(executable_path=ChromeDriverManager().install())\n",
    "driver = webdriver.Chrome(service=service, options=chrome_options)\n",
    "\n",
    "driver.get(\"https://shopping.naver.com/home\")"
   ]
  },
  {
   "cell_type": "code",
   "execution_count": 68,
   "metadata": {},
   "outputs": [],
   "source": [
    "search= driver.find_element(By.CLASS_NAME,'_combineHeader_expansion_search_inner_1VxB3')\n",
    "search.click()\n",
    "in_word=driver.find_element(By.CLASS_NAME,'_ac_input')\n",
    "word=input()\n",
    "in_word.send_keys(word)\n",
    "in_word.send_keys(Keys.RETURN)\n",
    "sleep(2)\n",
    "\n",
    "wb=Workbook()\n",
    "\n",
    "ws=wb.active\n",
    "ws.title='Data'\n",
    "\n",
    "products=[\n",
    "    ['상품명','가격','url']\n",
    "]\n",
    "\n",
    "current_height = driver.execute_script(\"return window.scrollY\")\n",
    "\n",
    "while 1:\n",
    "    driver.find_element(By.CSS_SELECTOR,'body').send_keys(Keys.END)\n",
    "    sleep(1)\n",
    "\n",
    "    scrolled_height=driver.execute_script(\"return window.scrollY\")\n",
    "\n",
    "    if current_height==scrolled_height:\n",
    "        break\n",
    "\n",
    "    current_height=scrolled_height\n",
    "\n",
    "product=driver.find_elements(By.CLASS_NAME,'product_info_tit__c5_pb')\n",
    "\n",
    "for i in range(len(product)):\n",
    "    product_name=driver.find_elements(By.CLASS_NAME,'product_info_tit__c5_pb')[i].text\n",
    "    try:\n",
    "        product_price=driver.find_elements(By.CLASS_NAME,'product_num__iQsWh')[i].text\n",
    "    except:\n",
    "        product_price='판매 중지'\n",
    "    product_url=driver.find_elements(By.CLASS_NAME,'product_info_main__piyRs > a')[i].get_attribute('href')\n",
    "    products.append([product_name,product_price,product_url])\n",
    "\n",
    "for row in products:\n",
    "    ws.append(row)\n",
    "\n",
    "wb.save(\"NaverShopping.xlsx\")"
   ]
  }
 ],
 "metadata": {
  "kernelspec": {
   "display_name": "base",
   "language": "python",
   "name": "python3"
  },
  "language_info": {
   "codemirror_mode": {
    "name": "ipython",
    "version": 3
   },
   "file_extension": ".py",
   "mimetype": "text/x-python",
   "name": "python",
   "nbconvert_exporter": "python",
   "pygments_lexer": "ipython3",
   "version": "3.11.5"
  }
 },
 "nbformat": 4,
 "nbformat_minor": 2
}
