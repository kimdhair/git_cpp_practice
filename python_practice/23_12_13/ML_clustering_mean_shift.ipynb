{
 "cells": [
  {
   "cell_type": "code",
   "execution_count": null,
   "metadata": {},
   "outputs": [],
   "source": [
    "import numpy as np\n",
    "import matplotlib.pyplot as plt\n",
    "from sklearn.cluster import MeanShift, estimate_bandwidth\n",
    "from sklearn.datasets import make_blobs\n",
    "\n",
    "# Generate synthetic data with three clusters\n",
    "X, _ = make_blobs(n_samples=300, centers=3, cluster_std=1.0)\n",
    "\n",
    "# Estimate bandwidth for Mean Shift\n",
    "bandwidth = estimate_bandwidth(X, quantile=0.2, n_samples=len(X))\n",
    "\n",
    "# Perform Mean Shift clustering\n",
    "ms = MeanShift(bandwidth=bandwidth)\n",
    "ms.fit(X)\n",
    "\n",
    "# Get cluster labels and cluster centers\n",
    "labels = ms.labels_\n",
    "cluster_centers = ms.cluster_centers_\n",
    "\n",
    "# Number of clusters\n",
    "n_clusters = len(np.unique(labels))\n",
    "\n",
    "# Plot the data points and cluster centers\n",
    "colors = ['r', 'g', 'b', 'c', 'm', 'y', 'k']\n",
    "for i in range(n_clusters):\n",
    "    cluster_points = X[labels == i]\n",
    "    plt.scatter(cluster_points[:, 0], cluster_points[:, 1], c=colors[i], label=f'Cluster {i+1}')\n",
    "\n",
    "plt.scatter(cluster_centers[:, 0], cluster_centers[:, 1], c='k', marker='x', s=100, label='Cluster Centers')\n",
    "plt.xlabel('X-axis')\n",
    "plt.ylabel('Y-axis')\n",
    "plt.legend()\n",
    "plt.show()"
   ]
  },
  {
   "cell_type": "code",
   "execution_count": null,
   "metadata": {},
   "outputs": [],
   "source": [
    "import torch\n",
    "from torch import exp, sqrt\n",
    "import math\n",
    "\n",
    "import numpy as np\n",
    "import matplotlib.pyplot as plt"
   ]
  },
  {
   "cell_type": "code",
   "execution_count": null,
   "metadata": {},
   "outputs": [],
   "source": [
    "n_clusters = 6\n",
    "n_samples = 1000\n",
    "\n",
    "centroids = np.random.uniform(-35, 35, (n_clusters, 2))\n",
    "slices = [np.random.multivariate_normal(centroids[i], np.diag([5., 5.]), n_samples)\n",
    "          for i in range(n_clusters)]\n",
    "data = np.concatenate(slices).astype(np.float32)"
   ]
  },
  {
   "cell_type": "code",
   "execution_count": null,
   "metadata": {},
   "outputs": [],
   "source": [
    "def distance(x, X):\n",
    "    # return np.linalg.norm(x - X, axis=1)\n",
    "    return sqrt(((x - X)**2).sum(1))"
   ]
  },
  {
   "cell_type": "code",
   "execution_count": null,
   "metadata": {},
   "outputs": [],
   "source": [
    "def gaussian(dist, bandwidth):\n",
    "    return exp(-0.5 * ((dist / bandwidth))**2) / (bandwidth * math.sqrt(2 * math.pi))"
   ]
  },
  {
   "cell_type": "code",
   "execution_count": null,
   "metadata": {},
   "outputs": [],
   "source": [
    "def meanshift_step(X, bandwidth=2.5):\n",
    "    for i, x in enumerate(X):\n",
    "        dist = distance(x, X)\n",
    "        weight = gaussian(dist, bandwidth)\n",
    "        X[i] = (weight[:, None] * X).sum(0) / weight.sum()\n",
    "    return X"
   ]
  },
  {
   "cell_type": "code",
   "execution_count": null,
   "metadata": {},
   "outputs": [],
   "source": [
    "def meanshift_torch(X):\n",
    "    X = torch.from_numpy(np.copy(X)).cuda()\n",
    "    for it in range(5):\n",
    "        X = meanshift_step(X)\n",
    "    return X"
   ]
  },
  {
   "cell_type": "code",
   "execution_count": null,
   "metadata": {},
   "outputs": [],
   "source": [
    "def plot_data(centroids, data, n_samples):\n",
    "    colour = plt.cm.rainbow(np.linspace(0,1,len(centroids)))\n",
    "\n",
    "    fig, ax = plt.subplots(figsize=(4, 4))\n",
    "    for i, centroid in enumerate(centroids):\n",
    "        samples = data[i * n_samples : (i + 1) * n_samples]\n",
    "        ax.scatter(samples[:, 0], samples[:, 1], c=colour[i], s=1)\n",
    "        ax.plot(centroid[0], centroid[1], markersize=10, marker=\"x\", color='k', mew=5)\n",
    "        ax.plot(centroid[0], centroid[1], markersize=5, marker=\"x\", color='m', mew=2)\n",
    "    plt.axis('equal')"
   ]
  },
  {
   "cell_type": "code",
   "execution_count": null,
   "metadata": {},
   "outputs": [],
   "source": [
    "%time X = meanshift_torch(data).cpu().numpy()\n",
    "plot_data(centroids+2, X, n_samples)"
   ]
  },
  {
   "cell_type": "code",
   "execution_count": null,
   "metadata": {},
   "outputs": [],
   "source": [
    "plot_data(centroids, data, n_samples)"
   ]
  },
  {
   "cell_type": "code",
   "execution_count": null,
   "metadata": {},
   "outputs": [],
   "source": [
    "plot_data(centroids, X, n_samples)"
   ]
  }
 ],
 "metadata": {
  "language_info": {
   "name": "python"
  }
 },
 "nbformat": 4,
 "nbformat_minor": 2
}
