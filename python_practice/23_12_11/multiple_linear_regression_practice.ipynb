{
 "cells": [
  {
   "cell_type": "code",
   "execution_count": 5,
   "metadata": {},
   "outputs": [],
   "source": [
    "import torch\n",
    "import torch.nn as nn\n",
    "import torch.nn.functional as F\n",
    "import torch.optim as optim"
   ]
  },
  {
   "cell_type": "code",
   "execution_count": 10,
   "metadata": {},
   "outputs": [],
   "source": [
    "x_train = torch.FloatTensor([[ 1.76405235,  0.40015721],\n",
    "                             [ 0.3130677,  -0.85409574],\n",
    "                             [ 1.86755799, -0.97727788],\n",
    "                             [ 0.95008842, -0.15135721],\n",
    "                             [ 0.14404357,  1.45427351],\n",
    "                             [ 0.76103773,  0.12167502],\n",
    "                             [ 0.44386323,  0.33367433],\n",
    "                             [ 0.97873798,  2.2408932 ],\n",
    "                             [ 1.49407907, -0.20515826],\n",
    "                             [-0.10321885,  0.4105985 ]])\n",
    "y_train = torch.FloatTensor([[ 63.53688815],\n",
    "                             [-71.72648252],\n",
    "                             [-61.68390971],\n",
    "                             [1.57941977],\n",
    "                             [140.99124416],\n",
    "                             [25.4497451],\n",
    "                             [40.69691806],\n",
    "                             [229.37436452],\n",
    "                             [6.57023041],\n",
    "                             [42.57804267]])"
   ]
  },
  {
   "cell_type": "code",
   "execution_count": 7,
   "metadata": {},
   "outputs": [
    {
     "name": "stdout",
     "output_type": "stream",
     "text": [
      "torch.Size([10, 2])\n",
      "torch.Size([10, 1])\n"
     ]
    }
   ],
   "source": [
    "print(x_train.shape)\n",
    "print(y_train.shape)"
   ]
  },
  {
   "cell_type": "code",
   "execution_count": 8,
   "metadata": {},
   "outputs": [],
   "source": [
    "# 모델 초기화\n",
    "W = torch.zeros((2, 1), requires_grad=True)\n",
    "b = torch.zeros(1, requires_grad=True)\n",
    "\n",
    "# optimizer 설정\n",
    "optimizer = optim.SGD([W, b], lr=1e-2)\n"
   ]
  },
  {
   "cell_type": "code",
   "execution_count": 9,
   "metadata": {},
   "outputs": [
    {
     "name": "stdout",
     "output_type": "stream",
     "text": [
      "epoch    0/3000 cost: 8964.013672 w1 0.527 w2 1.797\n",
      "epoch  100/3000 cost: 225.669800 w1 6.122 w2 77.455\n",
      "epoch  200/3000 cost: 32.829697 w1 6.466 w2 89.344\n",
      "epoch  300/3000 cost: 14.709024 w1 8.290 w2 91.816\n",
      "epoch  400/3000 cost: 7.860475 w1 9.844 w2 92.623\n",
      "epoch  500/3000 cost: 4.606734 w1 10.970 w2 93.040\n",
      "epoch  600/3000 cost: 3.039405 w1 11.759 w2 93.306\n",
      "epoch  700/3000 cost: 2.283878 w1 12.308 w2 93.487\n",
      "epoch  800/3000 cost: 1.919660 w1 12.689 w2 93.612\n",
      "epoch  900/3000 cost: 1.744084 w1 12.954 w2 93.699\n",
      "epoch 1000/3000 cost: 1.659442 w1 13.138 w2 93.759\n",
      "epoch 1100/3000 cost: 1.618637 w1 13.265 w2 93.801\n",
      "epoch 1200/3000 cost: 1.598964 w1 13.354 w2 93.830\n",
      "epoch 1300/3000 cost: 1.589480 w1 13.416 w2 93.850\n",
      "epoch 1400/3000 cost: 1.584914 w1 13.458 w2 93.864\n",
      "epoch 1500/3000 cost: 1.582708 w1 13.488 w2 93.874\n",
      "epoch 1600/3000 cost: 1.581644 w1 13.509 w2 93.881\n",
      "epoch 1700/3000 cost: 1.581130 w1 13.523 w2 93.885\n",
      "epoch 1800/3000 cost: 1.580889 w1 13.533 w2 93.889\n",
      "epoch 1900/3000 cost: 1.580775 w1 13.540 w2 93.891\n",
      "epoch 2000/3000 cost: 1.580709 w1 13.544 w2 93.892\n",
      "epoch 2100/3000 cost: 1.580685 w1 13.548 w2 93.894\n",
      "epoch 2200/3000 cost: 1.580667 w1 13.550 w2 93.894\n",
      "epoch 2300/3000 cost: 1.580671 w1 13.552 w2 93.895\n",
      "epoch 2400/3000 cost: 1.580659 w1 13.553 w2 93.895\n",
      "epoch 2500/3000 cost: 1.580660 w1 13.554 w2 93.895\n",
      "epoch 2600/3000 cost: 1.580665 w1 13.554 w2 93.896\n",
      "epoch 2700/3000 cost: 1.580660 w1 13.554 w2 93.896\n",
      "epoch 2800/3000 cost: 1.580660 w1 13.555 w2 93.896\n",
      "epoch 2900/3000 cost: 1.580657 w1 13.555 w2 93.896\n",
      "epoch 3000/3000 cost: 1.580658 w1 13.555 w2 93.896\n"
     ]
    }
   ],
   "source": [
    "nb_epochs = 3000\n",
    "\n",
    "for epoch in range(nb_epochs + 1):\n",
    "\n",
    "    # H(X) 계산\n",
    "    # 편향 b는 브로드캐스팅되어 각 샘플에 더해진다.\n",
    "    hypothesis = x_train.matmul(W) + b\n",
    "\n",
    "    # cost 계산\n",
    "    cost = torch.mean((hypothesis - y_train) ** 2)\n",
    "\n",
    "    # cost로 H(x) 개선\n",
    "    optimizer.zero_grad()\n",
    "    cost.backward()\n",
    "    optimizer.step()\n",
    "\n",
    "    if epoch % 100 ==0:\n",
    "      # print('Epoch {:4d}/{} hypothesis: {} Cost: {:.6f}'.format(\n",
    "      #     epoch, nb_epochs, hypothesis.squeeze().detach(), cost.item()\n",
    "      # ))\n",
    "      print('epoch {:4d}/{} cost: {:.6f} w1 {:.3f} w2 {:.3f}'.format(epoch,nb_epochs,cost.item(),W[0,0].item(),W[1,0].item()))"
   ]
  }
 ],
 "metadata": {
  "kernelspec": {
   "display_name": "base",
   "language": "python",
   "name": "python3"
  },
  "language_info": {
   "codemirror_mode": {
    "name": "ipython",
    "version": 3
   },
   "file_extension": ".py",
   "mimetype": "text/x-python",
   "name": "python",
   "nbconvert_exporter": "python",
   "pygments_lexer": "ipython3",
   "version": "3.11.5"
  }
 },
 "nbformat": 4,
 "nbformat_minor": 2
}
