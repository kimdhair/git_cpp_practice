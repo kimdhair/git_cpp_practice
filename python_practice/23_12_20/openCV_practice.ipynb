{
 "cells": [
  {
   "cell_type": "code",
   "execution_count": 1,
   "metadata": {},
   "outputs": [
    {
     "name": "stdout",
     "output_type": "stream",
     "text": [
      "Collecting opencv-python\n",
      "  Obtaining dependency information for opencv-python from https://files.pythonhosted.org/packages/c7/ec/9dabb6a9abfdebb3c45b0cc52dec901caafef2b2c7e7d6a839ed86d81e91/opencv_python-4.9.0.80-cp37-abi3-win_amd64.whl.metadata\n",
      "  Downloading opencv_python-4.9.0.80-cp37-abi3-win_amd64.whl.metadata (20 kB)\n",
      "Collecting numpy>=1.21.2 (from opencv-python)\n",
      "  Obtaining dependency information for numpy>=1.21.2 from https://files.pythonhosted.org/packages/99/2b/f7114983d84303019385d93d24d729aedba67be7e083286f114188943cf3/numpy-1.26.3-cp311-cp311-win_amd64.whl.metadata\n",
      "  Downloading numpy-1.26.3-cp311-cp311-win_amd64.whl.metadata (61 kB)\n",
      "     ---------------------------------------- 0.0/61.2 kB ? eta -:--:--\n",
      "     -------------------- ------------------- 30.7/61.2 kB ? eta -:--:--\n",
      "     ---------------------------------------- 61.2/61.2 kB 3.2 MB/s eta 0:00:00\n",
      "Downloading opencv_python-4.9.0.80-cp37-abi3-win_amd64.whl (38.6 MB)\n",
      "   ---------------------------------------- 0.0/38.6 MB ? eta -:--:--\n",
      "   - -------------------------------------- 1.0/38.6 MB 20.5 MB/s eta 0:00:02\n",
      "   --- ------------------------------------ 2.9/38.6 MB 36.8 MB/s eta 0:00:01\n",
      "   ----- ---------------------------------- 5.1/38.6 MB 40.6 MB/s eta 0:00:01\n",
      "   ------- -------------------------------- 7.6/38.6 MB 44.2 MB/s eta 0:00:01\n",
      "   ---------- ----------------------------- 10.2/38.6 MB 46.5 MB/s eta 0:00:01\n",
      "   ------------- -------------------------- 12.8/38.6 MB 54.7 MB/s eta 0:00:01\n",
      "   --------------- ------------------------ 15.3/38.6 MB 54.4 MB/s eta 0:00:01\n",
      "   ----------------- ---------------------- 16.8/38.6 MB 54.7 MB/s eta 0:00:01\n",
      "   ----------------- ---------------------- 16.8/38.6 MB 54.7 MB/s eta 0:00:01\n",
      "   ----------------- ---------------------- 16.8/38.6 MB 54.7 MB/s eta 0:00:01\n",
      "   ----------------- ---------------------- 16.9/38.6 MB 29.8 MB/s eta 0:00:01\n",
      "   -------------------- ------------------- 19.4/38.6 MB 29.8 MB/s eta 0:00:01\n",
      "   ---------------------- ----------------- 22.0/38.6 MB 29.7 MB/s eta 0:00:01\n",
      "   ------------------------- -------------- 24.6/38.6 MB 29.7 MB/s eta 0:00:01\n",
      "   ---------------------------- ----------- 27.1/38.6 MB 54.4 MB/s eta 0:00:01\n",
      "   ------------------------------ --------- 29.7/38.6 MB 59.5 MB/s eta 0:00:01\n",
      "   --------------------------------- ------ 32.3/38.6 MB 59.5 MB/s eta 0:00:01\n",
      "   ------------------------------------ --- 34.9/38.6 MB 59.5 MB/s eta 0:00:01\n",
      "   -------------------------------------- - 37.4/38.6 MB 59.5 MB/s eta 0:00:01\n",
      "   ---------------------------------------  38.6/38.6 MB 54.7 MB/s eta 0:00:01\n",
      "   ---------------------------------------  38.6/38.6 MB 54.7 MB/s eta 0:00:01\n",
      "   ---------------------------------------- 38.6/38.6 MB 36.4 MB/s eta 0:00:00\n",
      "Downloading numpy-1.26.3-cp311-cp311-win_amd64.whl (15.8 MB)\n",
      "   ---------------------------------------- 0.0/15.8 MB ? eta -:--:--\n",
      "   ----- ---------------------------------- 2.3/15.8 MB 72.6 MB/s eta 0:00:01\n",
      "   ------------ --------------------------- 4.9/15.8 MB 61.7 MB/s eta 0:00:01\n",
      "   ------------------ --------------------- 7.5/15.8 MB 59.6 MB/s eta 0:00:01\n",
      "   ------------------------- -------------- 10.1/15.8 MB 58.7 MB/s eta 0:00:01\n",
      "   ------------------------------- -------- 12.6/15.8 MB 54.7 MB/s eta 0:00:01\n",
      "   -------------------------------------- - 15.2/15.8 MB 54.7 MB/s eta 0:00:01\n",
      "   ---------------------------------------  15.8/15.8 MB 59.5 MB/s eta 0:00:01\n",
      "   ---------------------------------------- 15.8/15.8 MB 46.7 MB/s eta 0:00:00\n",
      "Installing collected packages: numpy, opencv-python\n",
      "Successfully installed numpy-1.26.3 opencv-python-4.9.0.80\n",
      "Note: you may need to restart the kernel to use updated packages.\n"
     ]
    },
    {
     "name": "stderr",
     "output_type": "stream",
     "text": [
      "\n",
      "[notice] A new release of pip is available: 23.2.1 -> 23.3.2\n",
      "[notice] To update, run: C:\\Users\\김도현\\AppData\\Local\\Microsoft\\WindowsApps\\PythonSoftwareFoundation.Python.3.11_qbz5n2kfra8p0\\python.exe -m pip install --upgrade pip\n"
     ]
    }
   ],
   "source": [
    "%pip install opencv-python"
   ]
  },
  {
   "cell_type": "code",
   "execution_count": 4,
   "metadata": {},
   "outputs": [],
   "source": [
    "import cv2\n",
    "\n",
    "cv2.namedWindow(\"window test\")\n",
    "cv2.waitKey()\n",
    "cv2.destroyAllWindows()"
   ]
  },
  {
   "cell_type": "code",
   "execution_count": 5,
   "metadata": {},
   "outputs": [],
   "source": [
    "import cv2\n",
    "\n",
    "cv2.namedWindow(\"window test\",cv2.WINDOW_NORMAL)\n",
    "cv2.waitKey()\n",
    "cv2.destroyAllWindows()"
   ]
  },
  {
   "cell_type": "code",
   "execution_count": 8,
   "metadata": {},
   "outputs": [],
   "source": [
    "import cv2\n",
    "\n",
    "src=cv2.imread('a.jpg')\n",
    "\n",
    "cv2.imshow('src',src)\n",
    "cv2.waitKey()\n",
    "cv2.destroyAllWindows()"
   ]
  },
  {
   "cell_type": "code",
   "execution_count": 13,
   "metadata": {},
   "outputs": [
    {
     "name": "stdout",
     "output_type": "stream",
     "text": [
      "q\n"
     ]
    }
   ],
   "source": [
    "import cv2\n",
    "\n",
    "src=cv2.imread('a.jpg')\n",
    "\n",
    "cv2.imshow('src',src)\n",
    "while True :\n",
    "    key=cv2.waitKey()\n",
    "    if key==ord('q'):\n",
    "        print(chr(key))\n",
    "        break\n",
    "cv2.destroyAllWindows()"
   ]
  },
  {
   "cell_type": "code",
   "execution_count": 36,
   "metadata": {},
   "outputs": [],
   "source": [
    "import cv2\n",
    "\n",
    "capture = cv2.VideoCapture(0)\n",
    "capture.set(cv2.CAP_PROP_FRAME_WIDTH, 640)\n",
    "capture.set(cv2.CAP_PROP_FRAME_HEIGHT, 480)\n",
    "fps=1000\n",
    "\n",
    "while cv2.waitKey(int(1000.0/fps)) < 0:\n",
    "    ret, frame = capture.read()\n",
    "    cv2.imshow(\"VideoFrame\", frame)\n",
    "\n",
    "capture.release()\n",
    "cv2.destroyAllWindows()"
   ]
  },
  {
   "cell_type": "code",
   "execution_count": 18,
   "metadata": {},
   "outputs": [
    {
     "name": "stdout",
     "output_type": "stream",
     "text": [
      "fps 23.976023976023978\n",
      "total_frame 4390.0\n"
     ]
    }
   ],
   "source": [
    "capture=cv2.VideoCapture('sample_1280x720_surfing_with_audio.avi')\n",
    "fps=capture.get(cv2.CAP_PROP_FPS)\n",
    "print('fps',fps)\n",
    "total_frame=capture.get(cv2.CAP_PROP_FRAME_COUNT)\n",
    "print('total_frame',total_frame)\n",
    "fps=10\n",
    "\n",
    "while cv2.waitKey(int(1000.0/fps))<0:\n",
    "    if capture.get(cv2.CAP_PROP_POS_FRAMES)==total_frame-1:\n",
    "        capture.set(cv2.CAP_PROP_POS_FRAMES,0)\n",
    "\n",
    "    ret,frame=capture.read()\n",
    "    cv2.imshow('VideoFrame',frame)\n",
    "\n",
    "capture.release()\n",
    "cv2.destroyAllWindows()"
   ]
  },
  {
   "cell_type": "code",
   "execution_count": 39,
   "metadata": {},
   "outputs": [],
   "source": [
    "src=cv2.imread('a.jpg')\n",
    "dst=cv2.flip(src,0)\n",
    "\n",
    "cv2.imshow(\"src\",src)\n",
    "cv2.imshow('dst',dst)\n",
    "cv2.waitKey()\n",
    "cv2.destroyAllWindows()"
   ]
  },
  {
   "cell_type": "code",
   "execution_count": 41,
   "metadata": {},
   "outputs": [],
   "source": [
    "src=cv2.imread('a.jpg')\n",
    "\n",
    "height,width,channel=src.shape\n",
    "\n",
    "matrix=cv2.getRotationMatrix2D((width,height),45,1)\n",
    "dst=cv2.warpAffine(src,matrix,(width,height))\n",
    "cv2.imshow('src',src)\n",
    "cv2.imshow('dst',dst)\n",
    "cv2.waitKey()\n",
    "cv2.destroyAllWindows()"
   ]
  },
  {
   "cell_type": "code",
   "execution_count": 2,
   "metadata": {},
   "outputs": [],
   "source": [
    "import cv2\n",
    "\n",
    "src=cv2.imread('a.jpg')\n",
    "\n",
    "height,width,channel=src.shape\n",
    "\n",
    "down=cv2.pyrDown(src)\n",
    "up=cv2.pyrUp(src)\n",
    "\n",
    "cv2.imshow('src',src)\n",
    "cv2.imshow('down',down)\n",
    "cv2.imshow('up',up)\n",
    "cv2.waitKey()\n",
    "cv2.destroyAllWindows()"
   ]
  },
  {
   "cell_type": "code",
   "execution_count": 4,
   "metadata": {},
   "outputs": [],
   "source": [
    "src=cv2.imread('a.jpg')\n",
    "dst=src[100:600,100:700].copy()\n",
    "\n",
    "cv2.imshow('src',src)\n",
    "cv2.imshow('dst',dst)\n",
    "cv2.waitKey()\n",
    "cv2.destroyAllWindows()"
   ]
  },
  {
   "cell_type": "code",
   "execution_count": 39,
   "metadata": {},
   "outputs": [],
   "source": [
    "src=cv2.imread('a.jpg')\n",
    "dst=cv2.resize(src,dsize=(0,0),fx=0.5,fy=0.5)\n",
    "dst2=cv2.flip(dst,1)\n",
    "dst3=src.copy()\n",
    "s_height,s_width,s_channel=src.shape\n",
    "d_height,d_width,d_channel=dst2.shape\n",
    "dst3[s_height-d_height::,s_width-d_width::]=dst2\n",
    "\n",
    "cv2.imshow('dst',dst3)\n",
    "cv2.waitKey()\n",
    "cv2.destroyAllWindows()"
   ]
  },
  {
   "cell_type": "code",
   "execution_count": 6,
   "metadata": {},
   "outputs": [],
   "source": [
    "import cv2\n",
    "\n",
    "src=cv2.imread('a.jpg')\n",
    "dst=cv2.cvtColor(src,cv2.COLOR_BGR2GRAY)\n",
    "_,dst2=cv2.threshold(dst,130,255,cv2.THRESH_BINARY)\n",
    "\n",
    "cv2.imshow(\"src\",src)\n",
    "cv2.imshow('dst',dst)\n",
    "cv2.imshow('dst2',dst2)\n",
    "cv2.waitKey()\n",
    "cv2.destroyAllWindows()"
   ]
  },
  {
   "cell_type": "code",
   "execution_count": 9,
   "metadata": {},
   "outputs": [],
   "source": [
    "import cv2\n",
    "\n",
    "src=cv2.imread('a.jpg')\n",
    "dst = cv2.blur(src, (2, 2), anchor=(-1, -1), borderType=cv2.BORDER_DEFAULT)\n",
    "\n",
    "cv2.imshow(\"src\", src)\n",
    "cv2.imshow(\"dst\", dst)\n",
    "cv2.waitKey()\n",
    "cv2.destroyAllWindows()"
   ]
  },
  {
   "cell_type": "code",
   "execution_count": 7,
   "metadata": {},
   "outputs": [],
   "source": [
    "import cv2\n",
    "\n",
    "src=cv2.imread('a.jpg')\n",
    "gray = cv2.cvtColor(src, cv2.COLOR_BGR2GRAY)\n",
    "\n",
    "sobel = cv2.Sobel(gray, cv2.CV_8U, 1, 0, 3)\n",
    "laplacian = cv2.Laplacian(gray, cv2.CV_8U, ksize=3)\n",
    "canny = cv2.Canny(src, 10, 255)\n",
    "\n",
    "cv2.imshow(\"sobel\", sobel)\n",
    "cv2.imshow(\"laplacian\", laplacian)\n",
    "cv2.imshow(\"canny\", canny)\n",
    "cv2.waitKey()\n",
    "cv2.destroyAllWindows()"
   ]
  },
  {
   "cell_type": "code",
   "execution_count": 4,
   "metadata": {},
   "outputs": [],
   "source": [
    "import cv2\n",
    "\n",
    "capture = cv2.VideoCapture(0)\n",
    "# capture.set(cv2.CAP_PROP_FRAME_WIDTH, 640)\n",
    "# capture.set(cv2.CAP_PROP_FRAME_HEIGHT, 480)\n",
    "fps=1000\n",
    "\n",
    "while cv2.waitKey(int(1000.0/fps)) < 0:\n",
    "    ret, frame = capture.read()\n",
    "    #dst = cv2.blur(frame, (20, 20), anchor=(-1, -1), borderType=cv2.BORDER_DEFAULT)\n",
    "    dst=cv2.Canny(frame,150,255)\n",
    "    cv2.imshow(\"VideoFrame\", dst)\n",
    "\n",
    "capture.release()\n",
    "cv2.destroyAllWindows()"
   ]
  },
  {
   "cell_type": "code",
   "execution_count": null,
   "metadata": {},
   "outputs": [],
   "source": [
    "# 로고 원본사진에 합성(예시)\n",
    "import cv2\n",
    "import numpy as np\n",
    "\n",
    "x_offset = 200\n",
    "y_offset = 200\n",
    "\n",
    "# Load two images\n",
    "img_bg = cv2.imread('newjeans.webp')\n",
    "img_fg = cv2.imread('newjeans_logo.png', cv2.IMREAD_UNCHANGED)\n",
    "\n",
    "# cv2.imshow('img1',img_bg)\n",
    "# cv2.imshow('img2',img_fg)\n",
    "\n",
    "_, mask = cv2.threshold(img_fg[:,:,3], 1, 255, cv2.THRESH_BINARY)\n",
    "mask_inv = cv2.bitwise_not(mask)\n",
    "\n",
    "cv2.imshow('mask',mask)\n",
    "cv2.imshow('mask_inv',mask_inv)\n",
    "\n",
    "rows,cols,channels = img_fg.shape\n",
    "roi = img_bg[x_offset:x_offset+rows, y_offset:y_offset+cols ]\n",
    "\n",
    "masked_fg = cv2.bitwise_and(img_fg, img_fg, mask=mask)\n",
    "masked_bg = cv2.bitwise_and(roi, roi, mask=mask_inv)\n",
    "\n",
    "cv2.imshow('masked_fg',masked_fg)\n",
    "cv2.imshow('masked_bg',masked_bg)\n",
    "\n",
    "print(\"masked_bg\", masked_bg.shape)\n",
    "print(\"masked_fg\", masked_fg.shape)\n",
    "dst = cv2.add(masked_fg[:,:,:3],masked_bg)\n",
    "# print(\"dst\", dst)\n",
    "# added = masked_fg + masked_bg\n",
    "img_bg[x_offset:x_offset+rows, y_offset:y_offset+cols ] = dst\n",
    "cv2.imshow('dst',dst)\n",
    "cv2.imshow('img_bg',img_bg)\n",
    "\n",
    "cv2.waitKey(0)\n",
    "cv2.destroyAllWindows()"
   ]
  },
  {
   "cell_type": "code",
   "execution_count": 17,
   "metadata": {},
   "outputs": [],
   "source": [
    "import cv2\n",
    "\n",
    "capture = cv2.VideoCapture(0)\n",
    "# capture.set(cv2.CAP_PROP_FRAME_WIDTH, 340)\n",
    "# capture.set(cv2.CAP_PROP_FRAME_HEIGHT, 476)\n",
    "src=cv2.imread('a.jpg')\n",
    "\n",
    "while True:\n",
    "    ret, frame = capture.read()\n",
    "    dst=cv2.resize(src,dsize=(frame.shape[1],frame.shape[0]))\n",
    "    out=cv2.addWeighted(frame,0.8,dst,0.2,0.0)\n",
    "    cv2.imshow(\"VideoFrame\", out)\n",
    "    if cv2.waitKey(10)>0:\n",
    "        break\n",
    "\n",
    "capture.release()\n",
    "cv2.destroyAllWindows()"
   ]
  },
  {
   "cell_type": "code",
   "execution_count": 20,
   "metadata": {},
   "outputs": [],
   "source": [
    "import cv2\n",
    "import numpy as np\n",
    "\n",
    "src = np.zeros((768, 1366, 3), dtype=np.uint8)\n",
    "\n",
    "src = cv2.line(src, (100, 100), (1200, 100), (0, 0, 255), 3, cv2.LINE_AA)\n",
    "src = cv2.line(src, (100, 150), (1200, 150), (0, 255, 255), 3, cv2.LINE_4)\n",
    "\n",
    "src = cv2.circle(src, (300, 300), 50, (0, 255, 0), cv2.FILLED, cv2.LINE_4)\n",
    "src = cv2.rectangle(src, (500, 200), (1000, 400), (255, 0, 0), 5, cv2.LINE_8)\n",
    "src = cv2.ellipse(src, (1200, 300), (100, 50), 0, 90, 180, (255, 255, 0), 2)\n",
    "\n",
    "pts1 = np.array([[100, 500], [300, 500], [200, 600]])\n",
    "pts2 = np.array([[600, 500], [800, 500], [700, 600]])\n",
    "src = cv2.polylines(src, [pts1], True, (0, 255, 255), 2)\n",
    "src = cv2.fillPoly(src, [pts2], (255, 0, 255), cv2.LINE_AA)\n",
    "\n",
    "src = cv2.putText(src, \"Hi,OpenCV\", (900, 600), cv2.FONT_HERSHEY_COMPLEX, 2, (255, 255, 255), 3)\n",
    "\n",
    "cv2.imshow(\"src\", src)\n",
    "cv2.waitKey()\n",
    "cv2.destroyAllWindows()"
   ]
  },
  {
   "cell_type": "code",
   "execution_count": 22,
   "metadata": {},
   "outputs": [],
   "source": [
    "import cv2\n",
    "import numpy as np\n",
    "\n",
    "img = np.zeros(shape = (512, 512, 3), dtype = np.uint8) + 255\n",
    "\n",
    "x1, x2 = 100, 400\n",
    "y1, y2 = 100, 400\n",
    "cv2.rectangle(img, (x1, y1), (x2, y2), (0, 0, 255))\n",
    "\n",
    "pt1 = 120, 50\n",
    "pt2 = 300, 500\n",
    "cv2.line(img, pt1, pt2, (255, 0, 0), 2)\n",
    "\n",
    "imgRect = (x1, y1, x2-x1, y2-y1)\n",
    "retval, rpt1, rpt2 = cv2.clipLine(imgRect, pt1, pt2)\n",
    "if retval:\n",
    "    cv2.circle(img, rpt1, radius=5, color = (0, 255, 0),thickness=-1)\n",
    "    cv2.circle(img, rpt2, radius=5, color=(0, 255, 0), thickness=-1)\n",
    "\n",
    "cv2.imshow('img',img)\n",
    "cv2.waitKey()\n",
    "cv2.destroyAllWindows()"
   ]
  }
 ],
 "metadata": {
  "kernelspec": {
   "display_name": "base",
   "language": "python",
   "name": "python3"
  },
  "language_info": {
   "codemirror_mode": {
    "name": "ipython",
    "version": 3
   },
   "file_extension": ".py",
   "mimetype": "text/x-python",
   "name": "python",
   "nbconvert_exporter": "python",
   "pygments_lexer": "ipython3",
   "version": "3.11.7"
  }
 },
 "nbformat": 4,
 "nbformat_minor": 2
}
